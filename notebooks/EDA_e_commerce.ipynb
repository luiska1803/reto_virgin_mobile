{
 "cells": [
  {
   "cell_type": "code",
   "execution_count": 2,
   "id": "94e17e25",
   "metadata": {},
   "outputs": [],
   "source": [
    "import polars as pl"
   ]
  },
  {
   "cell_type": "markdown",
   "id": "330c42f0",
   "metadata": {},
   "source": [
    "## EDA"
   ]
  },
  {
   "cell_type": "markdown",
   "id": "1bc1c677",
   "metadata": {},
   "source": [
    "### 1. Archivo Holiday "
   ]
  },
  {
   "cell_type": "code",
   "execution_count": 2,
   "id": "ef428270",
   "metadata": {},
   "outputs": [],
   "source": [
    "df_holiday = pl.read_csv('/home/luiskaa/projects/proyectos_personales/virgin_mobile/data/bronze_data/holidays.csv')"
   ]
  },
  {
   "cell_type": "code",
   "execution_count": 3,
   "id": "a8551c1c",
   "metadata": {},
   "outputs": [
    {
     "name": "stdout",
     "output_type": "stream",
     "text": [
      "Cantidad de filas, Columnas:  (48, 2)\n"
     ]
    }
   ],
   "source": [
    "# Cantidad de Columnas , Filas\n",
    "print(\"Cantidad de filas, Columnas: \", df_holiday.shape)"
   ]
  },
  {
   "cell_type": "code",
   "execution_count": 4,
   "id": "53004812",
   "metadata": {},
   "outputs": [
    {
     "name": "stdout",
     "output_type": "stream",
     "text": [
      "Schema del dataframe:  Schema({'date': String, 'holiday': String})\n"
     ]
    }
   ],
   "source": [
    "print(\"Schema del dataframe: \",df_holiday.schema)"
   ]
  },
  {
   "cell_type": "code",
   "execution_count": 5,
   "id": "4584ea5a",
   "metadata": {},
   "outputs": [
    {
     "name": "stdout",
     "output_type": "stream",
     "text": [
      "Estadisticas principales: \n",
      "\n",
      "shape: (9, 3)\n",
      "┌────────────┬────────────┬────────────────┐\n",
      "│ statistic  ┆ date       ┆ holiday        │\n",
      "│ ---        ┆ ---        ┆ ---            │\n",
      "│ str        ┆ str        ┆ str            │\n",
      "╞════════════╪════════════╪════════════════╡\n",
      "│ count      ┆ 48         ┆ 48             │\n",
      "│ null_count ┆ 0          ┆ 0              │\n",
      "│ mean       ┆ null       ┆ null           │\n",
      "│ std        ┆ null       ┆ null           │\n",
      "│ min        ┆ 2021-01-01 ┆ Back to School │\n",
      "│ 25%        ┆ null       ┆ null           │\n",
      "│ 50%        ┆ null       ┆ null           │\n",
      "│ 75%        ┆ null       ┆ null           │\n",
      "│ max        ┆ 2023-11-24 ┆ Victory day    │\n",
      "└────────────┴────────────┴────────────────┘\n"
     ]
    }
   ],
   "source": [
    "print(\"Estadisticas principales: \\n\")\n",
    "print(df_holiday.describe())"
   ]
  },
  {
   "cell_type": "code",
   "execution_count": 8,
   "id": "3e99eb6d",
   "metadata": {},
   "outputs": [
    {
     "name": "stdout",
     "output_type": "stream",
     "text": [
      "Total de registros: 48\n",
      "Total de total de registros duplicados: 1\n"
     ]
    }
   ],
   "source": [
    "print(f\"Total de registros: {len(df_holiday['date'])}\")\n",
    "print(f\"Total de total de registros duplicados: {len(df_holiday['date']) - len(df_holiday['date'].unique())}\")"
   ]
  },
  {
   "cell_type": "code",
   "execution_count": null,
   "id": "29ca515b",
   "metadata": {},
   "outputs": [
    {
     "name": "stdout",
     "output_type": "stream",
     "text": [
      "Conteo de nullos por columna: \n",
      "\n",
      "shape: (1, 2)\n",
      "┌──────┬─────────┐\n",
      "│ date ┆ holiday │\n",
      "│ ---  ┆ ---     │\n",
      "│ u32  ┆ u32     │\n",
      "╞══════╪═════════╡\n",
      "│ 0    ┆ 0       │\n",
      "└──────┴─────────┘\n"
     ]
    }
   ],
   "source": [
    "# Contar valores nulos por columna\n",
    "print(\"Conteo de nullos por columna: \\n\")\n",
    "print(df_holiday.null_count())"
   ]
  },
  {
   "cell_type": "code",
   "execution_count": null,
   "id": "c0a9ae0e",
   "metadata": {},
   "outputs": [
    {
     "name": "stdout",
     "output_type": "stream",
     "text": [
      "Tipos de Columnas: \n",
      "\n",
      "[String, String]\n"
     ]
    }
   ],
   "source": [
    "# Revisar tipos\n",
    "print(\"Tipos de Columnas: \\n\")\n",
    "print(df_holiday.dtypes)"
   ]
  },
  {
   "cell_type": "code",
   "execution_count": null,
   "id": "1a9c3b0e",
   "metadata": {},
   "outputs": [
    {
     "name": "stdout",
     "output_type": "stream",
     "text": [
      "Empty DataFrame\n",
      "Columns: []\n",
      "Index: []\n"
     ]
    }
   ],
   "source": [
    "## Correlaciones\n",
    "num_cols = [c for c, t in df_holiday.schema.items() if t in [pl.Int64, pl.Float64]]\n",
    "cor_matrix = df_holiday.select(num_cols).to_pandas().corr()\n",
    "print(cor_matrix)"
   ]
  },
  {
   "cell_type": "code",
   "execution_count": null,
   "id": "7bbe7221",
   "metadata": {},
   "outputs": [
    {
     "data": {
      "text/html": [
       "<div><style>\n",
       ".dataframe > thead > tr,\n",
       ".dataframe > tbody > tr {\n",
       "  text-align: right;\n",
       "  white-space: pre-wrap;\n",
       "}\n",
       "</style>\n",
       "<small>shape: (5, 2)</small><table border=\"1\" class=\"dataframe\"><thead><tr><th>date</th><th>holiday</th></tr><tr><td>str</td><td>str</td></tr></thead><tbody><tr><td>&quot;2021-01-01&quot;</td><td>&quot;New Year&quot;</td></tr><tr><td>&quot;2021-01-07&quot;</td><td>&quot;Orthodox Christmas&quot;</td></tr><tr><td>&quot;2021-01-13&quot;</td><td>&quot;Old New Year&quot;</td></tr><tr><td>&quot;2021-01-19&quot;</td><td>&quot;Baptizing - Sacred Epiphany&quot;</td></tr><tr><td>&quot;2021-01-25&quot;</td><td>&quot;Students day&quot;</td></tr></tbody></table></div>"
      ],
      "text/plain": [
       "shape: (5, 2)\n",
       "┌────────────┬─────────────────────────────┐\n",
       "│ date       ┆ holiday                     │\n",
       "│ ---        ┆ ---                         │\n",
       "│ str        ┆ str                         │\n",
       "╞════════════╪═════════════════════════════╡\n",
       "│ 2021-01-01 ┆ New Year                    │\n",
       "│ 2021-01-07 ┆ Orthodox Christmas          │\n",
       "│ 2021-01-13 ┆ Old New Year                │\n",
       "│ 2021-01-19 ┆ Baptizing - Sacred Epiphany │\n",
       "│ 2021-01-25 ┆ Students day                │\n",
       "└────────────┴─────────────────────────────┘"
      ]
     },
     "execution_count": 39,
     "metadata": {},
     "output_type": "execute_result"
    }
   ],
   "source": [
    "df_holiday.head()"
   ]
  },
  {
   "cell_type": "markdown",
   "id": "514e47ba",
   "metadata": {},
   "source": [
    "Conclusiones del archivo Holiday: \n",
    "- Solo se tiene 2 columnas que indican una fecha y el motivo de feriado.\n",
    "- No se tienen valores null, por lo que no es necesario hacer un dropeado.\n",
    "- Se tiene un registro duplicado, por lo que es necesario hacer drop de duplicados.\n",
    "- el campo de fecha se debe pasar a formato 'timestamp'"
   ]
  },
  {
   "cell_type": "markdown",
   "id": "c51fe6d5",
   "metadata": {},
   "source": [
    "### 2. Archivo Campaigns "
   ]
  },
  {
   "cell_type": "code",
   "execution_count": 36,
   "id": "bc66bfaf",
   "metadata": {},
   "outputs": [],
   "source": [
    "df_campaigns = pl.read_csv('/home/luiskaa/projects/proyectos_personales/virgin_mobile/data/bronze_data/campaigns.csv')"
   ]
  },
  {
   "cell_type": "code",
   "execution_count": null,
   "id": "e12194d0",
   "metadata": {},
   "outputs": [
    {
     "name": "stdout",
     "output_type": "stream",
     "text": [
      "Cantidad de filas, Columnas:  (1907, 19)\n"
     ]
    }
   ],
   "source": [
    "# Cantidad de Columnas , Filas\n",
    "print(\"Cantidad de filas, Columnas: \", df_campaigns.shape)"
   ]
  },
  {
   "cell_type": "code",
   "execution_count": null,
   "id": "3e06609b",
   "metadata": {},
   "outputs": [
    {
     "name": "stdout",
     "output_type": "stream",
     "text": [
      "Schema del dataframe:  Schema({'id': Int64, 'campaign_type': String, 'channel': String, 'topic': String, 'started_at': String, 'finished_at': String, 'total_count': Int64, 'ab_test': Boolean, 'warmup_mode': Boolean, 'hour_limit': Int64, 'subject_length': Float64, 'subject_with_personalization': Boolean, 'subject_with_deadline': Boolean, 'subject_with_emoji': Boolean, 'subject_with_bonuses': Boolean, 'subject_with_discount': Boolean, 'subject_with_saleout': Boolean, 'is_test': String, 'position': String})\n"
     ]
    }
   ],
   "source": [
    "print(\"Schema del dataframe: \",df_campaigns.schema)"
   ]
  },
  {
   "cell_type": "code",
   "execution_count": null,
   "id": "e618a1b4",
   "metadata": {},
   "outputs": [
    {
     "name": "stdout",
     "output_type": "stream",
     "text": [
      "Estadisticas principales: \n",
      "\n"
     ]
    },
    {
     "data": {
      "text/html": [
       "<div><style>\n",
       ".dataframe > thead > tr,\n",
       ".dataframe > tbody > tr {\n",
       "  text-align: right;\n",
       "  white-space: pre-wrap;\n",
       "}\n",
       "</style>\n",
       "<small>shape: (9, 20)</small><table border=\"1\" class=\"dataframe\"><thead><tr><th>statistic</th><th>id</th><th>campaign_type</th><th>channel</th><th>topic</th><th>started_at</th><th>finished_at</th><th>total_count</th><th>ab_test</th><th>warmup_mode</th><th>hour_limit</th><th>subject_length</th><th>subject_with_personalization</th><th>subject_with_deadline</th><th>subject_with_emoji</th><th>subject_with_bonuses</th><th>subject_with_discount</th><th>subject_with_saleout</th><th>is_test</th><th>position</th></tr><tr><td>str</td><td>f64</td><td>str</td><td>str</td><td>str</td><td>str</td><td>str</td><td>f64</td><td>f64</td><td>f64</td><td>f64</td><td>f64</td><td>f64</td><td>f64</td><td>f64</td><td>f64</td><td>f64</td><td>f64</td><td>str</td><td>str</td></tr></thead><tbody><tr><td>&quot;count&quot;</td><td>1907.0</td><td>&quot;1907&quot;</td><td>&quot;1907&quot;</td><td>&quot;1877&quot;</td><td>&quot;1824&quot;</td><td>&quot;1808&quot;</td><td>1824.0</td><td>12.0</td><td>1830.0</td><td>31.0</td><td>1880.0</td><td>1880.0</td><td>1880.0</td><td>1880.0</td><td>1880.0</td><td>1880.0</td><td>1880.0</td><td>&quot;27&quot;</td><td>&quot;24&quot;</td></tr><tr><td>&quot;null_count&quot;</td><td>0.0</td><td>&quot;0&quot;</td><td>&quot;0&quot;</td><td>&quot;30&quot;</td><td>&quot;83&quot;</td><td>&quot;99&quot;</td><td>83.0</td><td>1895.0</td><td>77.0</td><td>1876.0</td><td>27.0</td><td>27.0</td><td>27.0</td><td>27.0</td><td>27.0</td><td>27.0</td><td>27.0</td><td>&quot;1880&quot;</td><td>&quot;1883&quot;</td></tr><tr><td>&quot;mean&quot;</td><td>6122.944415</td><td>null</td><td>null</td><td>null</td><td>null</td><td>null</td><td>374129.463268</td><td>1.0</td><td>0.01694</td><td>64874.193548</td><td>94.340426</td><td>0.014362</td><td>0.025</td><td>0.965957</td><td>0.330319</td><td>0.048404</td><td>0.020213</td><td>null</td><td>null</td></tr><tr><td>&quot;std&quot;</td><td>3847.749021</td><td>null</td><td>null</td><td>null</td><td>null</td><td>null</td><td>819845.889171</td><td>null</td><td>null</td><td>184639.986582</td><td>28.482613</td><td>null</td><td>null</td><td>null</td><td>null</td><td>null</td><td>null</td><td>null</td><td>null</td></tr><tr><td>&quot;min&quot;</td><td>26.0</td><td>&quot;bulk&quot;</td><td>&quot;email&quot;</td><td>&quot;abandoned cart&quot;</td><td>&quot;2021-04-30 07:22:36.615023&quot;</td><td>&quot;2021-04-30 07:23:41&quot;</td><td>1.0</td><td>1.0</td><td>0.0</td><td>300.0</td><td>4.0</td><td>0.0</td><td>0.0</td><td>0.0</td><td>0.0</td><td>0.0</td><td>0.0</td><td>&quot;False&quot;</td><td>&quot;0&quot;</td></tr><tr><td>&quot;25%&quot;</td><td>2934.0</td><td>null</td><td>null</td><td>null</td><td>null</td><td>null</td><td>848.0</td><td>null</td><td>null</td><td>6500.0</td><td>92.0</td><td>null</td><td>null</td><td>null</td><td>null</td><td>null</td><td>null</td><td>null</td><td>null</td></tr><tr><td>&quot;50%&quot;</td><td>6078.0</td><td>null</td><td>null</td><td>null</td><td>null</td><td>null</td><td>2007.0</td><td>null</td><td>null</td><td>10000.0</td><td>96.0</td><td>null</td><td>null</td><td>null</td><td>null</td><td>null</td><td>null</td><td>null</td><td>null</td></tr><tr><td>&quot;75%&quot;</td><td>8965.0</td><td>null</td><td>null</td><td>null</td><td>null</td><td>null</td><td>281690.0</td><td>null</td><td>null</td><td>40500.0</td><td>112.0</td><td>null</td><td>null</td><td>null</td><td>null</td><td>null</td><td>null</td><td>null</td><td>null</td></tr><tr><td>&quot;max&quot;</td><td>25007.0</td><td>&quot;trigger&quot;</td><td>&quot;sms&quot;</td><td>&quot;wish list status&quot;</td><td>&quot;2023-04-21 15:30:14.136724&quot;</td><td>&quot;2023-04-21 16:09:50&quot;</td><td>5.371769e6</td><td>1.0</td><td>1.0</td><td>1e6</td><td>185.0</td><td>1.0</td><td>1.0</td><td>1.0</td><td>1.0</td><td>1.0</td><td>1.0</td><td>&quot;True&quot;</td><td>&quot;9&quot;</td></tr></tbody></table></div>"
      ],
      "text/plain": [
       "shape: (9, 20)\n",
       "┌────────────┬────────────┬────────────┬─────────┬───┬────────────┬───────────┬─────────┬──────────┐\n",
       "│ statistic  ┆ id         ┆ campaign_t ┆ channel ┆ … ┆ subject_wi ┆ subject_w ┆ is_test ┆ position │\n",
       "│ ---        ┆ ---        ┆ ype        ┆ ---     ┆   ┆ th_discoun ┆ ith_saleo ┆ ---     ┆ ---      │\n",
       "│ str        ┆ f64        ┆ ---        ┆ str     ┆   ┆ t          ┆ ut        ┆ str     ┆ str      │\n",
       "│            ┆            ┆ str        ┆         ┆   ┆ ---        ┆ ---       ┆         ┆          │\n",
       "│            ┆            ┆            ┆         ┆   ┆ f64        ┆ f64       ┆         ┆          │\n",
       "╞════════════╪════════════╪════════════╪═════════╪═══╪════════════╪═══════════╪═════════╪══════════╡\n",
       "│ count      ┆ 1907.0     ┆ 1907       ┆ 1907    ┆ … ┆ 1880.0     ┆ 1880.0    ┆ 27      ┆ 24       │\n",
       "│ null_count ┆ 0.0        ┆ 0          ┆ 0       ┆ … ┆ 27.0       ┆ 27.0      ┆ 1880    ┆ 1883     │\n",
       "│ mean       ┆ 6122.94441 ┆ null       ┆ null    ┆ … ┆ 0.048404   ┆ 0.020213  ┆ null    ┆ null     │\n",
       "│            ┆ 5          ┆            ┆         ┆   ┆            ┆           ┆         ┆          │\n",
       "│ std        ┆ 3847.74902 ┆ null       ┆ null    ┆ … ┆ null       ┆ null      ┆ null    ┆ null     │\n",
       "│            ┆ 1          ┆            ┆         ┆   ┆            ┆           ┆         ┆          │\n",
       "│ min        ┆ 26.0       ┆ bulk       ┆ email   ┆ … ┆ 0.0        ┆ 0.0       ┆ False   ┆ 0        │\n",
       "│ 25%        ┆ 2934.0     ┆ null       ┆ null    ┆ … ┆ null       ┆ null      ┆ null    ┆ null     │\n",
       "│ 50%        ┆ 6078.0     ┆ null       ┆ null    ┆ … ┆ null       ┆ null      ┆ null    ┆ null     │\n",
       "│ 75%        ┆ 8965.0     ┆ null       ┆ null    ┆ … ┆ null       ┆ null      ┆ null    ┆ null     │\n",
       "│ max        ┆ 25007.0    ┆ trigger    ┆ sms     ┆ … ┆ 1.0        ┆ 1.0       ┆ True    ┆ 9        │\n",
       "└────────────┴────────────┴────────────┴─────────┴───┴────────────┴───────────┴─────────┴──────────┘"
      ]
     },
     "execution_count": 42,
     "metadata": {},
     "output_type": "execute_result"
    }
   ],
   "source": [
    "print(\"Estadisticas principales: \\n\")\n",
    "df_campaigns.describe()"
   ]
  },
  {
   "cell_type": "code",
   "execution_count": 37,
   "id": "2a866f12",
   "metadata": {},
   "outputs": [
    {
     "name": "stdout",
     "output_type": "stream",
     "text": [
      "Total de registros: 1907\n",
      "Total de total de registros duplicados: 0\n"
     ]
    }
   ],
   "source": [
    "print(f\"Total de registros: {len(df_campaigns)}\")\n",
    "print(f\"Total de total de registros duplicados: {len(df_campaigns) - len(df_campaigns.unique())}\")"
   ]
  },
  {
   "cell_type": "code",
   "execution_count": null,
   "id": "3ab12c21",
   "metadata": {},
   "outputs": [
    {
     "name": "stdout",
     "output_type": "stream",
     "text": [
      "Conteo de nullos por columna: \n",
      "\n"
     ]
    },
    {
     "data": {
      "text/html": [
       "<div><style>\n",
       ".dataframe > thead > tr,\n",
       ".dataframe > tbody > tr {\n",
       "  text-align: right;\n",
       "  white-space: pre-wrap;\n",
       "}\n",
       "</style>\n",
       "<small>shape: (1, 19)</small><table border=\"1\" class=\"dataframe\"><thead><tr><th>id</th><th>campaign_type</th><th>channel</th><th>topic</th><th>started_at</th><th>finished_at</th><th>total_count</th><th>ab_test</th><th>warmup_mode</th><th>hour_limit</th><th>subject_length</th><th>subject_with_personalization</th><th>subject_with_deadline</th><th>subject_with_emoji</th><th>subject_with_bonuses</th><th>subject_with_discount</th><th>subject_with_saleout</th><th>is_test</th><th>position</th></tr><tr><td>u32</td><td>u32</td><td>u32</td><td>u32</td><td>u32</td><td>u32</td><td>u32</td><td>u32</td><td>u32</td><td>u32</td><td>u32</td><td>u32</td><td>u32</td><td>u32</td><td>u32</td><td>u32</td><td>u32</td><td>u32</td><td>u32</td></tr></thead><tbody><tr><td>0</td><td>0</td><td>0</td><td>30</td><td>83</td><td>99</td><td>83</td><td>1895</td><td>77</td><td>1876</td><td>27</td><td>27</td><td>27</td><td>27</td><td>27</td><td>27</td><td>27</td><td>1880</td><td>1883</td></tr></tbody></table></div>"
      ],
      "text/plain": [
       "shape: (1, 19)\n",
       "┌─────┬───────────────┬─────────┬───────┬───┬────────────────┬────────────────┬─────────┬──────────┐\n",
       "│ id  ┆ campaign_type ┆ channel ┆ topic ┆ … ┆ subject_with_d ┆ subject_with_s ┆ is_test ┆ position │\n",
       "│ --- ┆ ---           ┆ ---     ┆ ---   ┆   ┆ iscount        ┆ aleout         ┆ ---     ┆ ---      │\n",
       "│ u32 ┆ u32           ┆ u32     ┆ u32   ┆   ┆ ---            ┆ ---            ┆ u32     ┆ u32      │\n",
       "│     ┆               ┆         ┆       ┆   ┆ u32            ┆ u32            ┆         ┆          │\n",
       "╞═════╪═══════════════╪═════════╪═══════╪═══╪════════════════╪════════════════╪═════════╪══════════╡\n",
       "│ 0   ┆ 0             ┆ 0       ┆ 30    ┆ … ┆ 27             ┆ 27             ┆ 1880    ┆ 1883     │\n",
       "└─────┴───────────────┴─────────┴───────┴───┴────────────────┴────────────────┴─────────┴──────────┘"
      ]
     },
     "execution_count": 41,
     "metadata": {},
     "output_type": "execute_result"
    }
   ],
   "source": [
    "# Contar valores nulos por columna\n",
    "print(\"Conteo de nullos por columna: \\n\")\n",
    "df_campaigns.null_count()"
   ]
  },
  {
   "cell_type": "code",
   "execution_count": null,
   "id": "dd642823",
   "metadata": {},
   "outputs": [
    {
     "name": "stdout",
     "output_type": "stream",
     "text": [
      "Tipos de Columnas: \n",
      "\n",
      "[Int64, String, String, String, String, String, Int64, Boolean, Boolean, Int64, Float64, Boolean, Boolean, Boolean, Boolean, Boolean, Boolean, String, String]\n"
     ]
    }
   ],
   "source": [
    "# Revisar tipos\n",
    "print(\"Tipos de Columnas: \\n\")\n",
    "print(df_campaigns.dtypes)"
   ]
  },
  {
   "cell_type": "code",
   "execution_count": null,
   "id": "c63651cc",
   "metadata": {},
   "outputs": [
    {
     "data": {
      "text/plain": [
       "['id', 'total_count', 'hour_limit', 'subject_length']"
      ]
     },
     "execution_count": 51,
     "metadata": {},
     "output_type": "execute_result"
    }
   ],
   "source": [
    "num_cols = [c for c, t in df_campaigns.schema.items() if t in [pl.Int64, pl.Float64]]\n",
    "num_cols"
   ]
  },
  {
   "cell_type": "code",
   "execution_count": null,
   "id": "92f181a3",
   "metadata": {},
   "outputs": [
    {
     "name": "stdout",
     "output_type": "stream",
     "text": [
      "shape: (1, 1)\n",
      "┌─────────────┐\n",
      "│ total_count │\n",
      "│ ---         │\n",
      "│ f64         │\n",
      "╞═════════════╡\n",
      "│ 0.927665    │\n",
      "└─────────────┘ shape: (1, 1)\n",
      "┌────────────┐\n",
      "│ hour_limit │\n",
      "│ ---        │\n",
      "│ f64        │\n",
      "╞════════════╡\n",
      "│ -0.104761  │\n",
      "└────────────┘ shape: (1, 1)\n",
      "┌─────────────┐\n",
      "│ total_count │\n",
      "│ ---         │\n",
      "│ f64         │\n",
      "╞═════════════╡\n",
      "│ -0.06911    │\n",
      "└─────────────┘\n"
     ]
    }
   ],
   "source": [
    "## Correlaciones\n",
    "\n",
    "corr_1 = df_campaigns.select([pl.corr(\"total_count\", \"hour_limit\")])\n",
    "corr_2 = df_campaigns.select([pl.corr(\"hour_limit\", \"subject_length\")])\n",
    "corr_3 = df_campaigns.select([pl.corr(\"total_count\", \"subject_length\")])\n",
    "\n",
    "print(corr_1, corr_2, corr_3)"
   ]
  },
  {
   "cell_type": "code",
   "execution_count": 26,
   "id": "d343c468",
   "metadata": {},
   "outputs": [
    {
     "data": {
      "text/html": [
       "<div><style>\n",
       ".dataframe > thead > tr,\n",
       ".dataframe > tbody > tr {\n",
       "  text-align: right;\n",
       "  white-space: pre-wrap;\n",
       "}\n",
       "</style>\n",
       "<small>shape: (5, 19)</small><table border=\"1\" class=\"dataframe\"><thead><tr><th>id</th><th>campaign_type</th><th>channel</th><th>topic</th><th>started_at</th><th>finished_at</th><th>total_count</th><th>ab_test</th><th>warmup_mode</th><th>hour_limit</th><th>subject_length</th><th>subject_with_personalization</th><th>subject_with_deadline</th><th>subject_with_emoji</th><th>subject_with_bonuses</th><th>subject_with_discount</th><th>subject_with_saleout</th><th>is_test</th><th>position</th></tr><tr><td>i64</td><td>str</td><td>str</td><td>str</td><td>str</td><td>str</td><td>i64</td><td>bool</td><td>bool</td><td>i64</td><td>f64</td><td>bool</td><td>bool</td><td>bool</td><td>bool</td><td>bool</td><td>bool</td><td>str</td><td>str</td></tr></thead><tbody><tr><td>63</td><td>&quot;bulk&quot;</td><td>&quot;mobile_push&quot;</td><td>&quot;sale out&quot;</td><td>&quot;2021-04-30 07:22:36.615023&quot;</td><td>&quot;2021-04-30 07:23:41&quot;</td><td>48211</td><td>null</td><td>false</td><td>null</td><td>146.0</td><td>false</td><td>false</td><td>true</td><td>false</td><td>false</td><td>false</td><td>null</td><td>null</td></tr><tr><td>64</td><td>&quot;bulk&quot;</td><td>&quot;mobile_push&quot;</td><td>&quot;sale out&quot;</td><td>&quot;2021-04-30 09:02:50.817227&quot;</td><td>&quot;2021-04-30 09:04:08&quot;</td><td>1037337</td><td>null</td><td>false</td><td>null</td><td>97.0</td><td>false</td><td>false</td><td>true</td><td>false</td><td>false</td><td>false</td><td>null</td><td>null</td></tr><tr><td>78</td><td>&quot;bulk&quot;</td><td>&quot;mobile_push&quot;</td><td>&quot;sale out&quot;</td><td>&quot;2021-05-06 07:14:10.533318&quot;</td><td>&quot;2021-05-06 07:15:17&quot;</td><td>70080</td><td>null</td><td>false</td><td>null</td><td>146.0</td><td>false</td><td>false</td><td>true</td><td>false</td><td>false</td><td>false</td><td>null</td><td>null</td></tr><tr><td>79</td><td>&quot;bulk&quot;</td><td>&quot;mobile_push&quot;</td><td>&quot;sale out&quot;</td><td>&quot;2021-05-06 09:03:56.486750&quot;</td><td>&quot;2021-05-06 09:42:15&quot;</td><td>921838</td><td>null</td><td>false</td><td>null</td><td>97.0</td><td>false</td><td>false</td><td>true</td><td>false</td><td>false</td><td>false</td><td>null</td><td>null</td></tr><tr><td>89</td><td>&quot;bulk&quot;</td><td>&quot;mobile_push&quot;</td><td>null</td><td>&quot;2021-05-07 11:54:06.168664&quot;</td><td>&quot;2021-05-07 11:54:38&quot;</td><td>45503</td><td>null</td><td>false</td><td>null</td><td>109.0</td><td>false</td><td>true</td><td>true</td><td>false</td><td>false</td><td>false</td><td>null</td><td>null</td></tr></tbody></table></div>"
      ],
      "text/plain": [
       "shape: (5, 19)\n",
       "┌─────┬──────────────┬─────────────┬──────────┬───┬─────────────┬─────────────┬─────────┬──────────┐\n",
       "│ id  ┆ campaign_typ ┆ channel     ┆ topic    ┆ … ┆ subject_wit ┆ subject_wit ┆ is_test ┆ position │\n",
       "│ --- ┆ e            ┆ ---         ┆ ---      ┆   ┆ h_discount  ┆ h_saleout   ┆ ---     ┆ ---      │\n",
       "│ i64 ┆ ---          ┆ str         ┆ str      ┆   ┆ ---         ┆ ---         ┆ str     ┆ str      │\n",
       "│     ┆ str          ┆             ┆          ┆   ┆ bool        ┆ bool        ┆         ┆          │\n",
       "╞═════╪══════════════╪═════════════╪══════════╪═══╪═════════════╪═════════════╪═════════╪══════════╡\n",
       "│ 63  ┆ bulk         ┆ mobile_push ┆ sale out ┆ … ┆ false       ┆ false       ┆ null    ┆ null     │\n",
       "│ 64  ┆ bulk         ┆ mobile_push ┆ sale out ┆ … ┆ false       ┆ false       ┆ null    ┆ null     │\n",
       "│ 78  ┆ bulk         ┆ mobile_push ┆ sale out ┆ … ┆ false       ┆ false       ┆ null    ┆ null     │\n",
       "│ 79  ┆ bulk         ┆ mobile_push ┆ sale out ┆ … ┆ false       ┆ false       ┆ null    ┆ null     │\n",
       "│ 89  ┆ bulk         ┆ mobile_push ┆ null     ┆ … ┆ false       ┆ false       ┆ null    ┆ null     │\n",
       "└─────┴──────────────┴─────────────┴──────────┴───┴─────────────┴─────────────┴─────────┴──────────┘"
      ]
     },
     "execution_count": 26,
     "metadata": {},
     "output_type": "execute_result"
    }
   ],
   "source": [
    "df_campaigns.head()"
   ]
  },
  {
   "cell_type": "markdown",
   "id": "8e5e36a3",
   "metadata": {},
   "source": [
    "Conclusion del Archivo Campaigns:\n",
    " - No se tienen registros duplicados por lo que no es necesario hacer un drop de duplicados.\n",
    " - La columna 'channel' se puede trabajar como string pero es mejor trabajarla como categorica para futuras consultas. \n",
    " - Se tienen demasiados nullos en la columnas 'position', 'is_test', 'hour_limit', 'ab_test'; mas del 95% por lo que es mejor dropearlas. \n",
    " - Se deben cambiar todos las columnas de fecha a timestamp. \n",
    " - Las columnas de total_count, subject_length, al ser numericas y tener nulos, pueden cambiarse esos nulos a 0 para mantener el tipado de las columnas\n",
    " - Las columnas 'channel' y 'topic', se pueden rellenar con \"unknow\" con el fin de no tener registros nulos en estas columnas\n",
    "\n",
    "Adicional: \n",
    "- Teniendo en cuenta que se trata de un archivo de campañas, se requiere que los campos de fecha esten presentes por lo que se puede dropear los registros que no contengan la fecha inicial de una campaña. "
   ]
  },
  {
   "cell_type": "markdown",
   "id": "03411f03",
   "metadata": {},
   "source": [
    "### 3. Archivo client_first_purchase_date "
   ]
  },
  {
   "cell_type": "code",
   "execution_count": 43,
   "id": "3b97c6e3",
   "metadata": {},
   "outputs": [],
   "source": [
    "df_client_f = pl.read_csv('/home/luiskaa/projects/proyectos_personales/virgin_mobile/data/bronze_data/client_first_purchase_date.csv')"
   ]
  },
  {
   "cell_type": "code",
   "execution_count": null,
   "id": "ad5a0a52",
   "metadata": {},
   "outputs": [
    {
     "name": "stdout",
     "output_type": "stream",
     "text": [
      "Cantidad de filas, Columnas:  (1854736, 2)\n"
     ]
    }
   ],
   "source": [
    "# Cantidad de Columnas , Filas\n",
    "print(\"Cantidad de filas, Columnas: \", df_client_f.shape)"
   ]
  },
  {
   "cell_type": "code",
   "execution_count": null,
   "id": "84da0c1e",
   "metadata": {},
   "outputs": [
    {
     "name": "stdout",
     "output_type": "stream",
     "text": [
      "Schema del dataframe:  Schema({'client_id': Int64, 'first_purchase_date': String})\n"
     ]
    }
   ],
   "source": [
    "print(\"Schema del dataframe: \",df_client_f.schema)"
   ]
  },
  {
   "cell_type": "code",
   "execution_count": null,
   "id": "a1d67a72",
   "metadata": {},
   "outputs": [
    {
     "name": "stdout",
     "output_type": "stream",
     "text": [
      "Estadisticas principales: \n",
      "\n",
      "shape: (9, 3)\n",
      "┌────────────┬────────────┬─────────────────────┐\n",
      "│ statistic  ┆ client_id  ┆ first_purchase_date │\n",
      "│ ---        ┆ ---        ┆ ---                 │\n",
      "│ str        ┆ f64        ┆ str                 │\n",
      "╞════════════╪════════════╪═════════════════════╡\n",
      "│ count      ┆ 1.854736e6 ┆ 1854736             │\n",
      "│ null_count ┆ 0.0        ┆ 0                   │\n",
      "│ mean       ┆ 1.5159e18  ┆ null                │\n",
      "│ std        ┆ 1.9402e8   ┆ null                │\n",
      "│ min        ┆ 1.5159e18  ┆ 2021-12-15          │\n",
      "│ 25%        ┆ 1.5159e18  ┆ null                │\n",
      "│ 50%        ┆ 1.5159e18  ┆ null                │\n",
      "│ 75%        ┆ 1.5159e18  ┆ null                │\n",
      "│ max        ┆ 1.5159e18  ┆ 2023-12-14          │\n",
      "└────────────┴────────────┴─────────────────────┘\n"
     ]
    }
   ],
   "source": [
    "print(\"Estadisticas principales: \\n\")\n",
    "print(df_client_f.describe())"
   ]
  },
  {
   "cell_type": "code",
   "execution_count": 44,
   "id": "0c429283",
   "metadata": {},
   "outputs": [
    {
     "name": "stdout",
     "output_type": "stream",
     "text": [
      "Total de registros: 1854736\n",
      "Total de total de registros duplicados: 0\n"
     ]
    }
   ],
   "source": [
    "print(f\"Total de registros: {len(df_client_f)}\")\n",
    "print(f\"Total de total de registros duplicados: {len(df_client_f) - len(df_client_f.unique())}\")"
   ]
  },
  {
   "cell_type": "code",
   "execution_count": 45,
   "id": "71d9bfea",
   "metadata": {},
   "outputs": [
    {
     "data": {
      "text/plain": [
       "1854736"
      ]
     },
     "execution_count": 45,
     "metadata": {},
     "output_type": "execute_result"
    }
   ],
   "source": [
    "len(df_client_f.select('client_id').unique())"
   ]
  },
  {
   "cell_type": "code",
   "execution_count": null,
   "id": "d1b0e2d6",
   "metadata": {},
   "outputs": [
    {
     "name": "stdout",
     "output_type": "stream",
     "text": [
      "Conteo de nullos por columna: \n",
      "\n",
      "shape: (1, 2)\n",
      "┌───────────┬─────────────────────┐\n",
      "│ client_id ┆ first_purchase_date │\n",
      "│ ---       ┆ ---                 │\n",
      "│ u32       ┆ u32                 │\n",
      "╞═══════════╪═════════════════════╡\n",
      "│ 0         ┆ 0                   │\n",
      "└───────────┴─────────────────────┘\n"
     ]
    }
   ],
   "source": [
    "# Contar valores nulos por columna\n",
    "print(\"Conteo de nullos por columna: \\n\")\n",
    "print(df_client_f.null_count())"
   ]
  },
  {
   "cell_type": "code",
   "execution_count": null,
   "id": "f2cd09ca",
   "metadata": {},
   "outputs": [
    {
     "name": "stdout",
     "output_type": "stream",
     "text": [
      "Tipos de Columnas: \n",
      "\n",
      "[Int64, String]\n"
     ]
    }
   ],
   "source": [
    "# Revisar tipos\n",
    "print(\"Tipos de Columnas: \\n\")\n",
    "print(df_client_f.dtypes)"
   ]
  },
  {
   "cell_type": "code",
   "execution_count": null,
   "id": "27fde6ea",
   "metadata": {},
   "outputs": [
    {
     "data": {
      "text/plain": [
       "['client_id']"
      ]
     },
     "execution_count": 64,
     "metadata": {},
     "output_type": "execute_result"
    }
   ],
   "source": [
    "num_cols = [c for c, t in df_client_f.schema.items() if t in [pl.Int64, pl.Float64]]\n",
    "num_cols"
   ]
  },
  {
   "cell_type": "code",
   "execution_count": 24,
   "id": "99658ecd",
   "metadata": {},
   "outputs": [
    {
     "data": {
      "text/html": [
       "<div><style>\n",
       ".dataframe > thead > tr,\n",
       ".dataframe > tbody > tr {\n",
       "  text-align: right;\n",
       "  white-space: pre-wrap;\n",
       "}\n",
       "</style>\n",
       "<small>shape: (5, 2)</small><table border=\"1\" class=\"dataframe\"><thead><tr><th>client_id</th><th>first_purchase_date</th></tr><tr><td>i64</td><td>str</td></tr></thead><tbody><tr><td>1515915625761548908</td><td>&quot;2022-03-04&quot;</td></tr><tr><td>1515915625638660959</td><td>&quot;2022-04-06&quot;</td></tr><tr><td>1515915625490249330</td><td>&quot;2022-03-03&quot;</td></tr><tr><td>1515915625728802311</td><td>&quot;2021-12-20&quot;</td></tr><tr><td>1515915625915446913</td><td>&quot;2023-01-16&quot;</td></tr></tbody></table></div>"
      ],
      "text/plain": [
       "shape: (5, 2)\n",
       "┌─────────────────────┬─────────────────────┐\n",
       "│ client_id           ┆ first_purchase_date │\n",
       "│ ---                 ┆ ---                 │\n",
       "│ i64                 ┆ str                 │\n",
       "╞═════════════════════╪═════════════════════╡\n",
       "│ 1515915625761548908 ┆ 2022-03-04          │\n",
       "│ 1515915625638660959 ┆ 2022-04-06          │\n",
       "│ 1515915625490249330 ┆ 2022-03-03          │\n",
       "│ 1515915625728802311 ┆ 2021-12-20          │\n",
       "│ 1515915625915446913 ┆ 2023-01-16          │\n",
       "└─────────────────────┴─────────────────────┘"
      ]
     },
     "execution_count": 24,
     "metadata": {},
     "output_type": "execute_result"
    }
   ],
   "source": [
    "df_client_f.head()"
   ]
  },
  {
   "cell_type": "markdown",
   "id": "0bee2a6b",
   "metadata": {},
   "source": [
    "Conclusion del Archivo Campaigns:\n",
    " - No se tienen registros duplicados por lo que no es necesario hacer un drop de duplicados.\n",
    " - No se tienen registros nullos por lo que no es necesario hacer un drop null. \n",
    " - La columna 'first_purchase_date' se debe cambiar a tipo timestamp. "
   ]
  },
  {
   "cell_type": "markdown",
   "id": "042fc5ba",
   "metadata": {},
   "source": [
    "### 4. Archivo messages-demo "
   ]
  },
  {
   "cell_type": "code",
   "execution_count": 46,
   "id": "1e46a555",
   "metadata": {},
   "outputs": [],
   "source": [
    "df_messages = pl.scan_csv('/home/luiskaa/projects/proyectos_personales/virgin_mobile/data/bronze_data/messages-demo.csv', has_header=True)"
   ]
  },
  {
   "cell_type": "code",
   "execution_count": 7,
   "id": "bf60405c",
   "metadata": {},
   "outputs": [
    {
     "name": "stdout",
     "output_type": "stream",
     "text": [
      "Schema: \n",
      "\n",
      "Schema({'id': Int64, 'message_id': String, 'campaign_id': Int64, 'message_type': String, 'client_id': Int64, 'channel': String, 'category': String, 'platform': String, 'email_provider': String, 'stream': String, 'date': String, 'sent_at': String, 'is_opened': String, 'opened_first_time_at': String, 'opened_last_time_at': String, 'is_clicked': String, 'clicked_first_time_at': String, 'clicked_last_time_at': String, 'is_unsubscribed': String, 'unsubscribed_at': String, 'is_hard_bounced': String, 'hard_bounced_at': String, 'is_soft_bounced': String, 'soft_bounced_at': String, 'is_complained': String, 'complained_at': String, 'is_blocked': String, 'blocked_at': String, 'is_purchased': String, 'purchased_at': String, 'created_at': String, 'updated_at': String})\n"
     ]
    },
    {
     "name": "stderr",
     "output_type": "stream",
     "text": [
      "/tmp/ipykernel_140033/946715717.py:2: PerformanceWarning: Resolving the schema of a LazyFrame is a potentially expensive operation. Use `LazyFrame.collect_schema()` to get the schema without this warning.\n",
      "  print(df_messages.schema)\n"
     ]
    }
   ],
   "source": [
    "print(\"Schema: \\n\")\n",
    "print(df_messages.schema)"
   ]
  },
  {
   "cell_type": "code",
   "execution_count": null,
   "id": "5883f7ba",
   "metadata": {},
   "outputs": [
    {
     "name": "stderr",
     "output_type": "stream",
     "text": [
      "/tmp/ipykernel_140033/2661573571.py:1: PerformanceWarning: Resolving the schema of a LazyFrame is a potentially expensive operation. Use `LazyFrame.collect_schema()` to get the schema without this warning.\n",
      "  lista_columnas = [c for c, t in df_messages.schema.items() if t in [pl.Utf8]]\n"
     ]
    }
   ],
   "source": [
    "# Listado de columnas: \n",
    "lista_columnas = [c for c, t in df_messages.schema.items() if t in [pl.Utf8]]\n",
    "fechas = [c for c in df_messages.schema if c.endswith(\"at\")]\n",
    "fechas.append(\"date\")\n",
    "numericas = [c for c, t in df_messages.schema.items() if t in [pl.Int64, pl.Float64]]"
   ]
  },
  {
   "cell_type": "code",
   "execution_count": null,
   "id": "103a03a0",
   "metadata": {},
   "outputs": [],
   "source": [
    "# Separamos las columans de fechas de las demas\n",
    "lista_columnas = [x for x in lista_columnas if x not in fechas]"
   ]
  },
  {
   "cell_type": "code",
   "execution_count": null,
   "id": "08b2d35f",
   "metadata": {},
   "outputs": [
    {
     "name": "stderr",
     "output_type": "stream",
     "text": [
      "/tmp/ipykernel_137977/1927250952.py:1: PerformanceWarning: Resolving the schema of a LazyFrame is a potentially expensive operation. Use `LazyFrame.collect_schema()` to get the schema without this warning.\n",
      "  numericas = [c for c, t in df_messages.schema.items() if t in [pl.Int64, pl.Float64]]\n"
     ]
    },
    {
     "data": {
      "text/html": [
       "<div><style>\n",
       ".dataframe > thead > tr,\n",
       ".dataframe > tbody > tr {\n",
       "  text-align: right;\n",
       "  white-space: pre-wrap;\n",
       "}\n",
       "</style>\n",
       "<small>shape: (1, 12)</small><table border=\"1\" class=\"dataframe\"><thead><tr><th>id_mean</th><th>campaign_id_mean</th><th>client_id_mean</th><th>id_min</th><th>campaign_id_min</th><th>client_id_min</th><th>id_max</th><th>campaign_id_max</th><th>client_id_max</th><th>id_std</th><th>campaign_id_std</th><th>client_id_std</th></tr><tr><td>f64</td><td>f64</td><td>f64</td><td>i64</td><td>i64</td><td>i64</td><td>i64</td><td>i64</td><td>i64</td><td>f64</td><td>f64</td><td>f64</td></tr></thead><tbody><tr><td>4.5004e7</td><td>3988.568607</td><td>1.5159e18</td><td>3520546</td><td>26</td><td>1515915625467997301</td><td>61030267</td><td>20519</td><td>1515915625652002741</td><td>1.9793e7</td><td>7368.678547</td><td>5.3925e7</td></tr></tbody></table></div>"
      ],
      "text/plain": [
       "shape: (1, 12)\n",
       "┌──────────┬────────────┬────────────┬─────────┬───┬────────────┬──────────┬───────────┬───────────┐\n",
       "│ id_mean  ┆ campaign_i ┆ client_id_ ┆ id_min  ┆ … ┆ client_id_ ┆ id_std   ┆ campaign_ ┆ client_id │\n",
       "│ ---      ┆ d_mean     ┆ mean       ┆ ---     ┆   ┆ max        ┆ ---      ┆ id_std    ┆ _std      │\n",
       "│ f64      ┆ ---        ┆ ---        ┆ i64     ┆   ┆ ---        ┆ f64      ┆ ---       ┆ ---       │\n",
       "│          ┆ f64        ┆ f64        ┆         ┆   ┆ i64        ┆          ┆ f64       ┆ f64       │\n",
       "╞══════════╪════════════╪════════════╪═════════╪═══╪════════════╪══════════╪═══════════╪═══════════╡\n",
       "│ 4.5004e7 ┆ 3988.56860 ┆ 1.5159e18  ┆ 3520546 ┆ … ┆ 1515915625 ┆ 1.9793e7 ┆ 7368.6785 ┆ 5.3925e7  │\n",
       "│          ┆ 7          ┆            ┆         ┆   ┆ 652002741  ┆          ┆ 47        ┆           │\n",
       "└──────────┴────────────┴────────────┴─────────┴───┴────────────┴──────────┴───────────┴───────────┘"
      ]
     },
     "execution_count": 6,
     "metadata": {},
     "output_type": "execute_result"
    }
   ],
   "source": [
    "# Media, min, max, std\n",
    "stats = df_messages.select([\n",
    "    pl.col(col).mean().alias(f\"{col}_mean\") for col in numericas\n",
    "] + [\n",
    "    pl.col(col).min().alias(f\"{col}_min\") for col in numericas\n",
    "] + [\n",
    "    pl.col(col).max().alias(f\"{col}_max\") for col in numericas\n",
    "] + [\n",
    "    pl.col(col).std().alias(f\"{col}_std\") for col in numericas\n",
    "])\n",
    "\n",
    "stats.collect()"
   ]
  },
  {
   "cell_type": "code",
   "execution_count": 4,
   "id": "ed897c3c",
   "metadata": {},
   "outputs": [
    {
     "data": {
      "text/html": [
       "<div><style>\n",
       ".dataframe > thead > tr,\n",
       ".dataframe > tbody > tr {\n",
       "  text-align: right;\n",
       "  white-space: pre-wrap;\n",
       "}\n",
       "</style>\n",
       "<small>shape: (1, 3)</small><table border=\"1\" class=\"dataframe\"><thead><tr><th>id</th><th>campaign_id</th><th>client_id</th></tr><tr><td>u32</td><td>u32</td><td>u32</td></tr></thead><tbody><tr><td>0</td><td>0</td><td>0</td></tr></tbody></table></div>"
      ],
      "text/plain": [
       "shape: (1, 3)\n",
       "┌─────┬─────────────┬───────────┐\n",
       "│ id  ┆ campaign_id ┆ client_id │\n",
       "│ --- ┆ ---         ┆ ---       │\n",
       "│ u32 ┆ u32         ┆ u32       │\n",
       "╞═════╪═════════════╪═══════════╡\n",
       "│ 0   ┆ 0           ┆ 0         │\n",
       "└─────┴─────────────┴───────────┘"
      ]
     },
     "execution_count": 4,
     "metadata": {},
     "output_type": "execute_result"
    }
   ],
   "source": [
    "nulls = df_messages.select([pl.col(col).null_count().alias(col) for col in numericas])\n",
    "nulls.collect()"
   ]
  },
  {
   "cell_type": "code",
   "execution_count": 16,
   "id": "617bea14",
   "metadata": {},
   "outputs": [
    {
     "data": {
      "text/html": [
       "<div><style>\n",
       ".dataframe > thead > tr,\n",
       ".dataframe > tbody > tr {\n",
       "  text-align: right;\n",
       "  white-space: pre-wrap;\n",
       "}\n",
       "</style>\n",
       "<small>shape: (1, 14)</small><table border=\"1\" class=\"dataframe\"><thead><tr><th>sent_at</th><th>opened_first_time_at</th><th>opened_last_time_at</th><th>clicked_first_time_at</th><th>clicked_last_time_at</th><th>unsubscribed_at</th><th>hard_bounced_at</th><th>soft_bounced_at</th><th>complained_at</th><th>blocked_at</th><th>purchased_at</th><th>created_at</th><th>updated_at</th><th>date</th></tr><tr><td>u32</td><td>u32</td><td>u32</td><td>u32</td><td>u32</td><td>u32</td><td>u32</td><td>u32</td><td>u32</td><td>u32</td><td>u32</td><td>u32</td><td>u32</td><td>u32</td></tr></thead><tbody><tr><td>0</td><td>8386293</td><td>8386293</td><td>9764649</td><td>9764649</td><td>9696821</td><td>9968883</td><td>9995560</td><td>9995135</td><td>9999781</td><td>9987660</td><td>0</td><td>0</td><td>0</td></tr></tbody></table></div>"
      ],
      "text/plain": [
       "shape: (1, 14)\n",
       "┌─────────┬────────────┬────────────┬────────────┬───┬────────────┬────────────┬────────────┬──────┐\n",
       "│ sent_at ┆ opened_fir ┆ opened_las ┆ clicked_fi ┆ … ┆ purchased_ ┆ created_at ┆ updated_at ┆ date │\n",
       "│ ---     ┆ st_time_at ┆ t_time_at  ┆ rst_time_a ┆   ┆ at         ┆ ---        ┆ ---        ┆ ---  │\n",
       "│ u32     ┆ ---        ┆ ---        ┆ t          ┆   ┆ ---        ┆ u32        ┆ u32        ┆ u32  │\n",
       "│         ┆ u32        ┆ u32        ┆ ---        ┆   ┆ u32        ┆            ┆            ┆      │\n",
       "│         ┆            ┆            ┆ u32        ┆   ┆            ┆            ┆            ┆      │\n",
       "╞═════════╪════════════╪════════════╪════════════╪═══╪════════════╪════════════╪════════════╪══════╡\n",
       "│ 0       ┆ 8386293    ┆ 8386293    ┆ 9764649    ┆ … ┆ 9987660    ┆ 0          ┆ 0          ┆ 0    │\n",
       "└─────────┴────────────┴────────────┴────────────┴───┴────────────┴────────────┴────────────┴──────┘"
      ]
     },
     "execution_count": 16,
     "metadata": {},
     "output_type": "execute_result"
    }
   ],
   "source": [
    "nulls = df_messages.select([pl.col(col).null_count().alias(col) for col in fechas])\n",
    "nulls.collect()"
   ]
  },
  {
   "cell_type": "code",
   "execution_count": 21,
   "id": "e810b848",
   "metadata": {},
   "outputs": [
    {
     "data": {
      "text/html": [
       "<div><style>\n",
       ".dataframe > thead > tr,\n",
       ".dataframe > tbody > tr {\n",
       "  text-align: right;\n",
       "  white-space: pre-wrap;\n",
       "}\n",
       "</style>\n",
       "<small>shape: (1, 15)</small><table border=\"1\" class=\"dataframe\"><thead><tr><th>message_id</th><th>message_type</th><th>channel</th><th>category</th><th>platform</th><th>email_provider</th><th>stream</th><th>is_opened</th><th>is_clicked</th><th>is_unsubscribed</th><th>is_hard_bounced</th><th>is_soft_bounced</th><th>is_complained</th><th>is_blocked</th><th>is_purchased</th></tr><tr><td>u32</td><td>u32</td><td>u32</td><td>u32</td><td>u32</td><td>u32</td><td>u32</td><td>u32</td><td>u32</td><td>u32</td><td>u32</td><td>u32</td><td>u32</td><td>u32</td><td>u32</td></tr></thead><tbody><tr><td>0</td><td>0</td><td>0</td><td>10000000</td><td>9264277</td><td>4228693</td><td>0</td><td>0</td><td>0</td><td>0</td><td>0</td><td>0</td><td>0</td><td>0</td><td>0</td></tr></tbody></table></div>"
      ],
      "text/plain": [
       "shape: (1, 15)\n",
       "┌────────────┬────────────┬─────────┬──────────┬───┬───────────┬───────────┬───────────┬───────────┐\n",
       "│ message_id ┆ message_ty ┆ channel ┆ category ┆ … ┆ is_soft_b ┆ is_compla ┆ is_blocke ┆ is_purcha │\n",
       "│ ---        ┆ pe         ┆ ---     ┆ ---      ┆   ┆ ounced    ┆ ined      ┆ d         ┆ sed       │\n",
       "│ u32        ┆ ---        ┆ u32     ┆ u32      ┆   ┆ ---       ┆ ---       ┆ ---       ┆ ---       │\n",
       "│            ┆ u32        ┆         ┆          ┆   ┆ u32       ┆ u32       ┆ u32       ┆ u32       │\n",
       "╞════════════╪════════════╪═════════╪══════════╪═══╪═══════════╪═══════════╪═══════════╪═══════════╡\n",
       "│ 0          ┆ 0          ┆ 0       ┆ 10000000 ┆ … ┆ 0         ┆ 0         ┆ 0         ┆ 0         │\n",
       "└────────────┴────────────┴─────────┴──────────┴───┴───────────┴───────────┴───────────┴───────────┘"
      ]
     },
     "execution_count": 21,
     "metadata": {},
     "output_type": "execute_result"
    }
   ],
   "source": [
    "nulls = df_messages.select([pl.col(col).null_count().alias(col) for col in lista_columnas])\n",
    "nulls.collect()"
   ]
  },
  {
   "cell_type": "code",
   "execution_count": 22,
   "id": "78ccc863",
   "metadata": {},
   "outputs": [
    {
     "data": {
      "text/html": [
       "<div><style>\n",
       ".dataframe > thead > tr,\n",
       ".dataframe > tbody > tr {\n",
       "  text-align: right;\n",
       "  white-space: pre-wrap;\n",
       "}\n",
       "</style>\n",
       "<small>shape: (5, 32)</small><table border=\"1\" class=\"dataframe\"><thead><tr><th>id</th><th>message_id</th><th>campaign_id</th><th>message_type</th><th>client_id</th><th>channel</th><th>category</th><th>platform</th><th>email_provider</th><th>stream</th><th>date</th><th>sent_at</th><th>is_opened</th><th>opened_first_time_at</th><th>opened_last_time_at</th><th>is_clicked</th><th>clicked_first_time_at</th><th>clicked_last_time_at</th><th>is_unsubscribed</th><th>unsubscribed_at</th><th>is_hard_bounced</th><th>hard_bounced_at</th><th>is_soft_bounced</th><th>soft_bounced_at</th><th>is_complained</th><th>complained_at</th><th>is_blocked</th><th>blocked_at</th><th>is_purchased</th><th>purchased_at</th><th>created_at</th><th>updated_at</th></tr><tr><td>i64</td><td>str</td><td>i64</td><td>str</td><td>i64</td><td>str</td><td>str</td><td>str</td><td>str</td><td>str</td><td>str</td><td>str</td><td>str</td><td>str</td><td>str</td><td>str</td><td>str</td><td>str</td><td>str</td><td>str</td><td>str</td><td>str</td><td>str</td><td>str</td><td>str</td><td>str</td><td>str</td><td>str</td><td>str</td><td>str</td><td>str</td><td>str</td></tr></thead><tbody><tr><td>3527358</td><td>&quot;3f6aaad3-bab7-4886-b083-fe8c1f…</td><td>31</td><td>&quot;transactional&quot;</td><td>1515915625489833514</td><td>&quot;email&quot;</td><td>null</td><td>null</td><td>&quot;mail.ru&quot;</td><td>&quot;desktop&quot;</td><td>&quot;2021-04-30&quot;</td><td>&quot;2021-04-30 11:27:43&quot;</td><td>&quot;t&quot;</td><td>&quot;2021-05-04 05:47:05&quot;</td><td>&quot;2021-05-04 05:47:05&quot;</td><td>&quot;t&quot;</td><td>&quot;2021-05-04 05:47:46&quot;</td><td>&quot;2021-05-04 05:47:46&quot;</td><td>&quot;f&quot;</td><td>null</td><td>&quot;f&quot;</td><td>null</td><td>&quot;f&quot;</td><td>null</td><td>&quot;f&quot;</td><td>null</td><td>&quot;f&quot;</td><td>null</td><td>&quot;t&quot;</td><td>&quot;2021-05-06 16:40:38&quot;</td><td>&quot;2023-04-27 08:55:05.883908&quot;</td><td>&quot;2023-04-27 08:57:33.080129&quot;</td></tr><tr><td>3527619</td><td>&quot;0e670ecc-4549-44f6-86ed-469682…</td><td>32</td><td>&quot;transactional&quot;</td><td>1515915625489220445</td><td>&quot;email&quot;</td><td>null</td><td>null</td><td>&quot;yandex.ru&quot;</td><td>&quot;desktop&quot;</td><td>&quot;2021-04-30&quot;</td><td>&quot;2021-04-30 08:00:35&quot;</td><td>&quot;t&quot;</td><td>&quot;2021-05-04 15:38:20&quot;</td><td>&quot;2021-05-04 15:38:20&quot;</td><td>&quot;f&quot;</td><td>null</td><td>null</td><td>&quot;f&quot;</td><td>null</td><td>&quot;f&quot;</td><td>null</td><td>&quot;f&quot;</td><td>null</td><td>&quot;f&quot;</td><td>null</td><td>&quot;f&quot;</td><td>null</td><td>&quot;f&quot;</td><td>null</td><td>&quot;2023-04-27 08:55:06.265821&quot;</td><td>&quot;2023-04-27 08:56:18.60223&quot;</td></tr><tr><td>3527980</td><td>&quot;276b25cf-1bda-4faf-b3a4-98e416…</td><td>32</td><td>&quot;transactional&quot;</td><td>1515915625489854185</td><td>&quot;email&quot;</td><td>null</td><td>null</td><td>&quot;mail.ru&quot;</td><td>&quot;desktop&quot;</td><td>&quot;2021-04-30&quot;</td><td>&quot;2021-04-30 05:56:37&quot;</td><td>&quot;t&quot;</td><td>&quot;2021-05-04 15:16:32&quot;</td><td>&quot;2021-05-04 15:16:32&quot;</td><td>&quot;f&quot;</td><td>null</td><td>null</td><td>&quot;f&quot;</td><td>null</td><td>&quot;f&quot;</td><td>null</td><td>&quot;f&quot;</td><td>null</td><td>&quot;f&quot;</td><td>null</td><td>&quot;f&quot;</td><td>null</td><td>&quot;f&quot;</td><td>null</td><td>&quot;2023-04-27 08:55:06.777039&quot;</td><td>&quot;2023-04-27 08:56:19.112546&quot;</td></tr><tr><td>3528369</td><td>&quot;4545aff2-09b3-45e3-9abd-c68035…</td><td>32</td><td>&quot;transactional&quot;</td><td>1515915625489101550</td><td>&quot;email&quot;</td><td>null</td><td>null</td><td>&quot;mail.ru&quot;</td><td>&quot;desktop&quot;</td><td>&quot;2021-04-30&quot;</td><td>&quot;2021-04-30 05:53:59&quot;</td><td>&quot;t&quot;</td><td>&quot;2021-05-04 09:47:25&quot;</td><td>&quot;2021-05-04 09:47:25&quot;</td><td>&quot;f&quot;</td><td>null</td><td>null</td><td>&quot;f&quot;</td><td>null</td><td>&quot;f&quot;</td><td>null</td><td>&quot;f&quot;</td><td>null</td><td>&quot;f&quot;</td><td>null</td><td>&quot;f&quot;</td><td>null</td><td>&quot;f&quot;</td><td>null</td><td>&quot;2023-04-27 08:55:07.325906&quot;</td><td>&quot;2023-04-27 08:56:19.590637&quot;</td></tr><tr><td>3528648</td><td>&quot;5850858d-2dcf-4f31-a0d3-5db564…</td><td>32</td><td>&quot;transactional&quot;</td><td>1515915625490455948</td><td>&quot;email&quot;</td><td>null</td><td>null</td><td>&quot;mail.ru&quot;</td><td>&quot;desktop&quot;</td><td>&quot;2021-04-30&quot;</td><td>&quot;2021-04-30 06:20:37&quot;</td><td>&quot;t&quot;</td><td>&quot;2021-05-04 18:56:16&quot;</td><td>&quot;2021-05-04 18:56:16&quot;</td><td>&quot;f&quot;</td><td>null</td><td>null</td><td>&quot;f&quot;</td><td>null</td><td>&quot;f&quot;</td><td>null</td><td>&quot;f&quot;</td><td>null</td><td>&quot;f&quot;</td><td>null</td><td>&quot;f&quot;</td><td>null</td><td>&quot;f&quot;</td><td>null</td><td>&quot;2023-04-27 08:55:07.727792&quot;</td><td>&quot;2023-04-27 08:56:19.926474&quot;</td></tr></tbody></table></div>"
      ],
      "text/plain": [
       "shape: (5, 32)\n",
       "┌─────────┬────────────┬───────────┬───────────┬───┬───────────┬───────────┬───────────┬───────────┐\n",
       "│ id      ┆ message_id ┆ campaign_ ┆ message_t ┆ … ┆ is_purcha ┆ purchased ┆ created_a ┆ updated_a │\n",
       "│ ---     ┆ ---        ┆ id        ┆ ype       ┆   ┆ sed       ┆ _at       ┆ t         ┆ t         │\n",
       "│ i64     ┆ str        ┆ ---       ┆ ---       ┆   ┆ ---       ┆ ---       ┆ ---       ┆ ---       │\n",
       "│         ┆            ┆ i64       ┆ str       ┆   ┆ str       ┆ str       ┆ str       ┆ str       │\n",
       "╞═════════╪════════════╪═══════════╪═══════════╪═══╪═══════════╪═══════════╪═══════════╪═══════════╡\n",
       "│ 3527358 ┆ 3f6aaad3-b ┆ 31        ┆ transacti ┆ … ┆ t         ┆ 2021-05-0 ┆ 2023-04-2 ┆ 2023-04-2 │\n",
       "│         ┆ ab7-4886-b ┆           ┆ onal      ┆   ┆           ┆ 6         ┆ 7 08:55:0 ┆ 7 08:57:3 │\n",
       "│         ┆ 083-fe8c1f ┆           ┆           ┆   ┆           ┆ 16:40:38  ┆ 5.883908  ┆ 3.080129  │\n",
       "│         ┆ …          ┆           ┆           ┆   ┆           ┆           ┆           ┆           │\n",
       "│ 3527619 ┆ 0e670ecc-4 ┆ 32        ┆ transacti ┆ … ┆ f         ┆ null      ┆ 2023-04-2 ┆ 2023-04-2 │\n",
       "│         ┆ 549-44f6-8 ┆           ┆ onal      ┆   ┆           ┆           ┆ 7 08:55:0 ┆ 7 08:56:1 │\n",
       "│         ┆ 6ed-469682 ┆           ┆           ┆   ┆           ┆           ┆ 6.265821  ┆ 8.60223   │\n",
       "│         ┆ …          ┆           ┆           ┆   ┆           ┆           ┆           ┆           │\n",
       "│ 3527980 ┆ 276b25cf-1 ┆ 32        ┆ transacti ┆ … ┆ f         ┆ null      ┆ 2023-04-2 ┆ 2023-04-2 │\n",
       "│         ┆ bda-4faf-b ┆           ┆ onal      ┆   ┆           ┆           ┆ 7 08:55:0 ┆ 7 08:56:1 │\n",
       "│         ┆ 3a4-98e416 ┆           ┆           ┆   ┆           ┆           ┆ 6.777039  ┆ 9.112546  │\n",
       "│         ┆ …          ┆           ┆           ┆   ┆           ┆           ┆           ┆           │\n",
       "│ 3528369 ┆ 4545aff2-0 ┆ 32        ┆ transacti ┆ … ┆ f         ┆ null      ┆ 2023-04-2 ┆ 2023-04-2 │\n",
       "│         ┆ 9b3-45e3-9 ┆           ┆ onal      ┆   ┆           ┆           ┆ 7 08:55:0 ┆ 7 08:56:1 │\n",
       "│         ┆ abd-c68035 ┆           ┆           ┆   ┆           ┆           ┆ 7.325906  ┆ 9.590637  │\n",
       "│         ┆ …          ┆           ┆           ┆   ┆           ┆           ┆           ┆           │\n",
       "│ 3528648 ┆ 5850858d-2 ┆ 32        ┆ transacti ┆ … ┆ f         ┆ null      ┆ 2023-04-2 ┆ 2023-04-2 │\n",
       "│         ┆ dcf-4f31-a ┆           ┆ onal      ┆   ┆           ┆           ┆ 7 08:55:0 ┆ 7 08:56:1 │\n",
       "│         ┆ 0d3-5db564 ┆           ┆           ┆   ┆           ┆           ┆ 7.727792  ┆ 9.926474  │\n",
       "│         ┆ …          ┆           ┆           ┆   ┆           ┆           ┆           ┆           │\n",
       "└─────────┴────────────┴───────────┴───────────┴───┴───────────┴───────────┴───────────┴───────────┘"
      ]
     },
     "execution_count": 22,
     "metadata": {},
     "output_type": "execute_result"
    }
   ],
   "source": [
    "df_messages.head().collect()"
   ]
  },
  {
   "cell_type": "markdown",
   "id": "ebf11311",
   "metadata": {},
   "source": [
    "Conclusion de archivo de messages-Demo:\n",
    "- La columna 'category' esta vacia, se debe remover. \n",
    "- Las columnas 'created_at' y 'updated_at' tienen fechas superiores a todas las demas fechas por lo que no simbolizan nada, es mejor removerlas. \n",
    "- Se debe cambiar las columnas booleanas a formato bool, debido a que se tiene \"t\" y \"f\" para representar verdadero y falso. \n",
    "- Las columnas 'clicked_first_time_at', 'clicked_last_time_at', 'unsubscribed_at', 'hard_bounced_at', 'soft_bounced_at', 'complained_at', 'blocked_at', 'purchased_at'; superan los 95% (en algunos casos superan los 99%) de nullos, por lo que es mejor remover estas columnas. \n",
    "- La columnas platform y email_provider, se pueden rellenar los nulos por 'unknow' con el fin de no tener las columnas con tantos registros nulos.\n"
   ]
  },
  {
   "cell_type": "markdown",
   "id": "b1f96c4f",
   "metadata": {},
   "source": []
  },
  {
   "cell_type": "markdown",
   "id": "2010638f",
   "metadata": {},
   "source": [
    "### 5 - Extra"
   ]
  },
  {
   "cell_type": "code",
   "execution_count": 3,
   "id": "db97e505",
   "metadata": {},
   "outputs": [],
   "source": [
    "df_campaigns = pl.scan_csv('/home/luiskaa/projects/proyectos_personales/virgin_mobile/data/bronze_data/campaigns.csv')"
   ]
  },
  {
   "cell_type": "code",
   "execution_count": 4,
   "id": "3a9e0dbd",
   "metadata": {},
   "outputs": [],
   "source": [
    "df_messages = pl.scan_csv('/home/luiskaa/projects/proyectos_personales/virgin_mobile/data/bronze_data/messages-demo.csv', has_header=True)"
   ]
  },
  {
   "cell_type": "code",
   "execution_count": 5,
   "id": "8cfd9260",
   "metadata": {},
   "outputs": [],
   "source": [
    "df_client_f = pl.scan_csv('/home/luiskaa/projects/proyectos_personales/virgin_mobile/data/bronze_data/client_first_purchase_date.csv')"
   ]
  },
  {
   "cell_type": "code",
   "execution_count": 6,
   "id": "54d2155c",
   "metadata": {},
   "outputs": [],
   "source": [
    "lista_clients_en_messages = set(df_messages.select(\"client_id\").collect()[\"client_id\"].to_list())\n",
    "lista_campaigns_en_messages = set(df_messages.select(\"campaign_id\").collect()[\"campaign_id\"].to_list())\n",
    "lista_clientes = set(df_client_f.select(\"client_id\").collect()[\"client_id\"].to_list())\n",
    "lista_campaigns = set(df_campaigns.select(\"id\").collect()[\"id\"].to_list())"
   ]
  },
  {
   "cell_type": "code",
   "execution_count": null,
   "id": "3b06bf98",
   "metadata": {},
   "outputs": [
    {
     "name": "stdout",
     "output_type": "stream",
     "text": [
      "Total clientes (campaign_id) del archivo clients en el archivo mensajes:: 7062404\n"
     ]
    }
   ],
   "source": [
    "df_filtrado = df_messages.filter(pl.col(\"campaign_id\").is_in(lista_campaigns))\n",
    "row_count = df_filtrado.select(pl.len()).collect().item()\n",
    "print(\"Total clientes (campaign_id) del archivo clients en el archivo mensajes::\", row_count)"
   ]
  },
  {
   "cell_type": "markdown",
   "id": "db3094e6",
   "metadata": {},
   "source": [
    "El resultado es 7.062.404, por lo que no todas las campañas del archivo messages son de las campañas del ejercicio (posiblemente)"
   ]
  },
  {
   "cell_type": "code",
   "execution_count": 9,
   "id": "22b5c9c1",
   "metadata": {},
   "outputs": [
    {
     "name": "stdout",
     "output_type": "stream",
     "text": [
      "Total clientes (client_id) del archivo clients en el archivo mensajes: 2629366\n"
     ]
    }
   ],
   "source": [
    "df_filtrado = df_messages.filter(pl.col(\"client_id\").is_in(lista_clientes))\n",
    "row_count = df_filtrado.select(pl.len()).collect().item()\n",
    "print(\"Total clientes (client_id) del archivo clients en el archivo mensajes:\", row_count)"
   ]
  },
  {
   "cell_type": "markdown",
   "id": "f8e5313b",
   "metadata": {},
   "source": [
    "El resultado es 2.629.366, por lo que no todas los clientes del archivo messages son de las campañas del ejercicio (posiblemente)"
   ]
  },
  {
   "cell_type": "markdown",
   "id": "52145dcd",
   "metadata": {},
   "source": [
    "Teniendo en cuenta que no todas los mensajes son de las campañas o de los clientes presentes en el archivo, puede que estos sean data ovelap de otro conjunto de datos, o que haga falta data. Por esta razon no se puede tener en cuenta el archivo total de messages, ya que las estadisticas se podrian sacar de este archivo y nos darian resultados incompletos o que no se podrian justificar con la data presente. \n",
    "\n",
    "Se procedera a filtrar el archivo de messages teniendo en cuenta el archivo de campaigns y de clients para que las estadisticas y la base de datos tengan la informacion correcta."
   ]
  },
  {
   "cell_type": "code",
   "execution_count": null,
   "id": "d407197b",
   "metadata": {},
   "outputs": [],
   "source": []
  }
 ],
 "metadata": {
  "kernelspec": {
   "display_name": "virgin-mobile",
   "language": "python",
   "name": "python3"
  },
  "language_info": {
   "codemirror_mode": {
    "name": "ipython",
    "version": 3
   },
   "file_extension": ".py",
   "mimetype": "text/x-python",
   "name": "python",
   "nbconvert_exporter": "python",
   "pygments_lexer": "ipython3",
   "version": "3.12.3"
  }
 },
 "nbformat": 4,
 "nbformat_minor": 5
}
